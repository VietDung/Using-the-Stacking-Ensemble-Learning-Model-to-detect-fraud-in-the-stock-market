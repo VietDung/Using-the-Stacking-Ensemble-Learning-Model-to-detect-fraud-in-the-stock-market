{
  "cells": [
    {
      "cell_type": "code",
      "execution_count": null,
      "metadata": {
        "id": "nOxz68j8SvFn"
      },
      "outputs": [],
      "source": [
        "from sklearn.model_selection import train_test_split\n",
        "from sklearn.ensemble import RandomForestClassifier\n",
        "from sklearn.ensemble import StackingClassifier\n",
        "from sklearn.linear_model import LogisticRegression\n",
        "from sklearn.svm import SVC\n",
        "from sklearn.neural_network import MLPClassifier\n",
        "from sklearn.model_selection import KFold"
      ]
    },
    {
      "cell_type": "code",
      "execution_count": null,
      "metadata": {
        "id": "CI_R9gRsv7Ux"
      },
      "outputs": [],
      "source": [
        "import pandas as pd\n",
        "\n",
        "# Đường dẫn đến file CSV\n",
        "csv_file_path = '/content/data1.xlsx'\n",
        "\n",
        "# Đọc dữ liệu từ file CSV và lưu vào DataFrame\n",
        "data = pd.read_excel(csv_file_path)\n"
      ]
    },
    {
      "cell_type": "code",
      "execution_count": null,
      "metadata": {
        "id": "ouAypEvnyukw"
      },
      "outputs": [],
      "source": [
        "\n",
        "\n",
        "# Đọc tệp Excel với nhiều sheet\n",
        "excel_file = pd.ExcelFile('/content/data1.xlsx')\n",
        "dataframes = {}\n",
        "# Lấy danh sách tên sheet trong tệp Excel\n",
        "sheet_names = excel_file.sheet_names\n",
        "for sheet_name in sheet_names:\n",
        "    df = excel_file.parse(sheet_name)\n",
        "    df.dropna(inplace=True)  # Loại bỏ bản ghi trống\n",
        "    dataframes[sheet_name] = df\n",
        "df_sheet1 = dataframes['data1']\n"
      ]
    },
    {
      "cell_type": "code",
      "execution_count": null,
      "metadata": {
        "colab": {
          "base_uri": "https://localhost:8080/"
        },
        "id": "CCnjyMnm35Uz",
        "outputId": "b99e4df6-03d8-48bc-bdcf-8a9135059ff1"
      },
      "outputs": [
        {
          "output_type": "execute_result",
          "data": {
            "text/plain": [
              "Index(['year', 'maCK', 'P/E', 'yeild', 'turnover TB', 'beta', 'abnormal_0',\n",
              "       'concentration', 'Dividend', 'leverage', 'liquidity', 'profit on Sales',\n",
              "       'EPS', 'EPS2', 'ROE', 'cash on sales', 'TATO', 'NPGR', 'growth',\n",
              "       'news_sentiment', 'manipulation'],\n",
              "      dtype='object')"
            ]
          },
          "metadata": {},
          "execution_count": 4
        }
      ],
      "source": [
        "df_sheet1.columns"
      ]
    },
    {
      "cell_type": "code",
      "execution_count": null,
      "metadata": {
        "id": "sfRWjds7zBFj"
      },
      "outputs": [],
      "source": [
        "count = df_sheet1['manipulation'].value_counts()[1]"
      ]
    },
    {
      "cell_type": "code",
      "execution_count": null,
      "metadata": {
        "colab": {
          "base_uri": "https://localhost:8080/"
        },
        "id": "4yjz6YMU39hC",
        "outputId": "72e97e50-000d-4020-d994-d3332274e2a8"
      },
      "outputs": [
        {
          "output_type": "execute_result",
          "data": {
            "text/plain": [
              "20"
            ]
          },
          "metadata": {},
          "execution_count": 6
        }
      ],
      "source": [
        "count"
      ]
    },
    {
      "cell_type": "code",
      "execution_count": null,
      "metadata": {
        "id": "47aWIZZicBQM"
      },
      "outputs": [],
      "source": [
        "count = df_sheet1['manipulation'].value_counts()[-1]"
      ]
    },
    {
      "cell_type": "code",
      "execution_count": null,
      "metadata": {
        "colab": {
          "base_uri": "https://localhost:8080/"
        },
        "id": "dskWaHJ_4uNr",
        "outputId": "aa941e17-efd6-45d8-9ace-ce30da1b2589"
      },
      "outputs": [
        {
          "output_type": "execute_result",
          "data": {
            "text/plain": [
              "118"
            ]
          },
          "metadata": {},
          "execution_count": 8
        }
      ],
      "source": [
        "count"
      ]
    },
    {
      "cell_type": "code",
      "execution_count": null,
      "metadata": {
        "id": "pjWqFJ_D4vUW"
      },
      "outputs": [],
      "source": [
        "X = df_sheet1.drop(columns=['year', 'maCK','manipulation'], axis=1)  # Drop the label column if necessary\n",
        "# X = df.drop(columns=['year', 'maCK','manipulation'], axis=1)  # Drop the label column if necessary\n"
      ]
    },
    {
      "cell_type": "code",
      "execution_count": null,
      "metadata": {
        "id": "ApTxLRLKinwP"
      },
      "outputs": [],
      "source": [
        "y = df_sheet1['manipulation']\n",
        "# y = df['manipulation']\n"
      ]
    },
    {
      "cell_type": "code",
      "execution_count": null,
      "metadata": {
        "colab": {
          "base_uri": "https://localhost:8080/"
        },
        "id": "1MPBfBKvZV5q",
        "outputId": "6cdffaca-126e-4652-b7a0-0102a11f10df"
      },
      "outputs": [
        {
          "output_type": "execute_result",
          "data": {
            "text/plain": [
              "138"
            ]
          },
          "metadata": {},
          "execution_count": 11
        }
      ],
      "source": [
        "count = y.shape[0]\n",
        "count"
      ]
    },
    {
      "cell_type": "code",
      "execution_count": null,
      "metadata": {
        "id": "P8fCTmshdotj"
      },
      "outputs": [],
      "source": [
        "X_train, X_test, y_train, y_test = train_test_split(X, y, test_size=0.2, random_state=42)"
      ]
    },
    {
      "cell_type": "code",
      "execution_count": null,
      "metadata": {
        "id": "xumWXMSKL5Vg"
      },
      "outputs": [],
      "source": [
        "from sklearn.preprocessing import MinMaxScaler\n",
        "\n",
        "# Chuẩn hóa Min-Max\n",
        "min_max_scaler = MinMaxScaler()  # Tạo một đối tượng MinMaxScaler\n",
        "X_train= min_max_scaler.fit_transform(X_train)\n",
        "X_test= min_max_scaler.fit_transform(X_test)"
      ]
    },
    {
      "cell_type": "code",
      "execution_count": null,
      "metadata": {
        "colab": {
          "base_uri": "https://localhost:8080/"
        },
        "id": "3_vCum9HDZ1C",
        "outputId": "e76fea61-cde0-4c6f-cc9d-be411fc5627f"
      },
      "outputs": [
        {
          "output_type": "execute_result",
          "data": {
            "text/plain": [
              "array([[0.06396486, 0.6010249 , 0.00083995, ..., 0.12721358, 0.18002991,\n",
              "        0.        ],\n",
              "       [0.05213594, 0.59625285, 0.07512092, ..., 0.14153014, 0.20024665,\n",
              "        0.        ],\n",
              "       [0.04743446, 0.56982873, 0.00485182, ..., 0.12406841, 0.14870765,\n",
              "        0.        ],\n",
              "       ...,\n",
              "       [0.04004282, 0.60689081, 0.01958267, ..., 0.18088959, 0.14648934,\n",
              "        0.125     ],\n",
              "       [0.04022973, 0.56200237, 0.06864511, ..., 0.14227957, 0.18855569,\n",
              "        0.        ],\n",
              "       [0.06278076, 0.54136358, 0.00609713, ..., 0.16829408, 0.18867805,\n",
              "        0.125     ]])"
            ]
          },
          "metadata": {},
          "execution_count": 14
        }
      ],
      "source": [
        "X_train"
      ]
    },
    {
      "cell_type": "code",
      "execution_count": null,
      "metadata": {
        "id": "QiIf-T11iwZU"
      },
      "outputs": [],
      "source": [
        "from imblearn.over_sampling import BorderlineSMOTE\n",
        "smote = BorderlineSMOTE(random_state=42)\n",
        "X_train, y_train = smote.fit_resample(X_train, y_train)"
      ]
    },
    {
      "cell_type": "code",
      "execution_count": null,
      "metadata": {
        "colab": {
          "base_uri": "https://localhost:8080/"
        },
        "id": "uvwwS9VGJftc",
        "outputId": "5999b178-8500-47d7-a6c1-7af5fcacb146"
      },
      "outputs": [
        {
          "output_type": "execute_result",
          "data": {
            "text/plain": [
              "0     -1\n",
              "1     -1\n",
              "2     -1\n",
              "3     -1\n",
              "4     -1\n",
              "      ..\n",
              "181    1\n",
              "182    1\n",
              "183    1\n",
              "184    1\n",
              "185    1\n",
              "Name: manipulation, Length: 186, dtype: int64"
            ]
          },
          "metadata": {},
          "execution_count": 16
        }
      ],
      "source": [
        "y_train"
      ]
    },
    {
      "cell_type": "code",
      "execution_count": null,
      "metadata": {
        "id": "Ti7UdN9_c95x"
      },
      "outputs": [],
      "source": [
        "svm_clf = SVC(random_state=42)\n",
        "ann_clf = MLPClassifier(hidden_layer_sizes=(100,), activation='relu', solver='adam',\n",
        "                        learning_rate_init=0.01, max_iter=1000,random_state=42)\n",
        "rf_clf = RandomForestClassifier(n_estimators=100,random_state=42)\n",
        "lr_clf = LogisticRegression(random_state=42)"
      ]
    },
    {
      "cell_type": "code",
      "execution_count": null,
      "metadata": {
        "id": "Gw79oo7EbKt5"
      },
      "outputs": [],
      "source": [
        "# Khởi tạo tham số cho K-fold cross validation\n",
        "n_splits = 5\n",
        "\n",
        "kf = KFold(n_splits=n_splits, shuffle=True, random_state=42)"
      ]
    },
    {
      "cell_type": "code",
      "execution_count": null,
      "metadata": {
        "id": "qOX50Y7dbtM5"
      },
      "outputs": [],
      "source": [
        "# Vòng lặp chính\n",
        "import numpy as np\n",
        "val_preds = np.zeros((len(X_train), 4))\n",
        "for i, (train_index, val_index) in enumerate(kf.split(X_train)):\n",
        "    X_train_fold, y_train_fold = X_train[train_index], y_train[train_index]\n",
        "    X_val_fold, y_val_fold = X_train[val_index], y_train[val_index]\n",
        "\n",
        "    # Training các model trên fold hiện tại\n",
        "    svm_clf.fit(X_train_fold, y_train_fold)\n",
        "    ann_clf.fit(X_train_fold, y_train_fold)\n",
        "    rf_clf.fit(X_train_fold, y_train_fold)\n",
        "    lr_clf.fit(X_train_fold, y_train_fold)\n",
        "\n",
        "    # Lưu trữ output của các model trên fold hiện tại\n",
        "    val_preds[val_index, :] = np.column_stack((svm_clf.predict(X_val_fold),\n",
        "                                                  ann_clf.predict(X_val_fold),\n",
        "                                                  rf_clf.predict(X_val_fold),\n",
        "                                                  lr_clf.predict(X_val_fold)))"
      ]
    },
    {
      "cell_type": "code",
      "execution_count": null,
      "metadata": {
        "id": "16_Noo_AiByh"
      },
      "outputs": [],
      "source": [
        "X_new= pd.DataFrame(val_preds)"
      ]
    },
    {
      "cell_type": "code",
      "source": [
        "test_preds_l1= np.column_stack((svm_clf.predict(X_test),\n",
        "                              ann_clf.predict(X_test),\n",
        "                              rf_clf.predict(X_test),\n",
        "                              lr_clf.predict(X_test)))"
      ],
      "metadata": {
        "id": "4gfKOyQ9lw3O"
      },
      "execution_count": null,
      "outputs": []
    },
    {
      "cell_type": "code",
      "execution_count": null,
      "metadata": {
        "colab": {
          "base_uri": "https://localhost:8080/",
          "height": 74
        },
        "id": "Te4KDbX9iNys",
        "outputId": "b56167c4-a700-4806-f3ed-beff659c6323"
      },
      "outputs": [
        {
          "output_type": "execute_result",
          "data": {
            "text/plain": [
              "MLPClassifier(learning_rate_init=0.01, max_iter=1000, random_state=42)"
            ],
            "text/html": [
              "<style>#sk-container-id-1 {color: black;background-color: white;}#sk-container-id-1 pre{padding: 0;}#sk-container-id-1 div.sk-toggleable {background-color: white;}#sk-container-id-1 label.sk-toggleable__label {cursor: pointer;display: block;width: 100%;margin-bottom: 0;padding: 0.3em;box-sizing: border-box;text-align: center;}#sk-container-id-1 label.sk-toggleable__label-arrow:before {content: \"▸\";float: left;margin-right: 0.25em;color: #696969;}#sk-container-id-1 label.sk-toggleable__label-arrow:hover:before {color: black;}#sk-container-id-1 div.sk-estimator:hover label.sk-toggleable__label-arrow:before {color: black;}#sk-container-id-1 div.sk-toggleable__content {max-height: 0;max-width: 0;overflow: hidden;text-align: left;background-color: #f0f8ff;}#sk-container-id-1 div.sk-toggleable__content pre {margin: 0.2em;color: black;border-radius: 0.25em;background-color: #f0f8ff;}#sk-container-id-1 input.sk-toggleable__control:checked~div.sk-toggleable__content {max-height: 200px;max-width: 100%;overflow: auto;}#sk-container-id-1 input.sk-toggleable__control:checked~label.sk-toggleable__label-arrow:before {content: \"▾\";}#sk-container-id-1 div.sk-estimator input.sk-toggleable__control:checked~label.sk-toggleable__label {background-color: #d4ebff;}#sk-container-id-1 div.sk-label input.sk-toggleable__control:checked~label.sk-toggleable__label {background-color: #d4ebff;}#sk-container-id-1 input.sk-hidden--visually {border: 0;clip: rect(1px 1px 1px 1px);clip: rect(1px, 1px, 1px, 1px);height: 1px;margin: -1px;overflow: hidden;padding: 0;position: absolute;width: 1px;}#sk-container-id-1 div.sk-estimator {font-family: monospace;background-color: #f0f8ff;border: 1px dotted black;border-radius: 0.25em;box-sizing: border-box;margin-bottom: 0.5em;}#sk-container-id-1 div.sk-estimator:hover {background-color: #d4ebff;}#sk-container-id-1 div.sk-parallel-item::after {content: \"\";width: 100%;border-bottom: 1px solid gray;flex-grow: 1;}#sk-container-id-1 div.sk-label:hover label.sk-toggleable__label {background-color: #d4ebff;}#sk-container-id-1 div.sk-serial::before {content: \"\";position: absolute;border-left: 1px solid gray;box-sizing: border-box;top: 0;bottom: 0;left: 50%;z-index: 0;}#sk-container-id-1 div.sk-serial {display: flex;flex-direction: column;align-items: center;background-color: white;padding-right: 0.2em;padding-left: 0.2em;position: relative;}#sk-container-id-1 div.sk-item {position: relative;z-index: 1;}#sk-container-id-1 div.sk-parallel {display: flex;align-items: stretch;justify-content: center;background-color: white;position: relative;}#sk-container-id-1 div.sk-item::before, #sk-container-id-1 div.sk-parallel-item::before {content: \"\";position: absolute;border-left: 1px solid gray;box-sizing: border-box;top: 0;bottom: 0;left: 50%;z-index: -1;}#sk-container-id-1 div.sk-parallel-item {display: flex;flex-direction: column;z-index: 1;position: relative;background-color: white;}#sk-container-id-1 div.sk-parallel-item:first-child::after {align-self: flex-end;width: 50%;}#sk-container-id-1 div.sk-parallel-item:last-child::after {align-self: flex-start;width: 50%;}#sk-container-id-1 div.sk-parallel-item:only-child::after {width: 0;}#sk-container-id-1 div.sk-dashed-wrapped {border: 1px dashed gray;margin: 0 0.4em 0.5em 0.4em;box-sizing: border-box;padding-bottom: 0.4em;background-color: white;}#sk-container-id-1 div.sk-label label {font-family: monospace;font-weight: bold;display: inline-block;line-height: 1.2em;}#sk-container-id-1 div.sk-label-container {text-align: center;}#sk-container-id-1 div.sk-container {/* jupyter's `normalize.less` sets `[hidden] { display: none; }` but bootstrap.min.css set `[hidden] { display: none !important; }` so we also need the `!important` here to be able to override the default hidden behavior on the sphinx rendered scikit-learn.org. See: https://github.com/scikit-learn/scikit-learn/issues/21755 */display: inline-block !important;position: relative;}#sk-container-id-1 div.sk-text-repr-fallback {display: none;}</style><div id=\"sk-container-id-1\" class=\"sk-top-container\"><div class=\"sk-text-repr-fallback\"><pre>MLPClassifier(learning_rate_init=0.01, max_iter=1000, random_state=42)</pre><b>In a Jupyter environment, please rerun this cell to show the HTML representation or trust the notebook. <br />On GitHub, the HTML representation is unable to render, please try loading this page with nbviewer.org.</b></div><div class=\"sk-container\" hidden><div class=\"sk-item\"><div class=\"sk-estimator sk-toggleable\"><input class=\"sk-toggleable__control sk-hidden--visually\" id=\"sk-estimator-id-1\" type=\"checkbox\" checked><label for=\"sk-estimator-id-1\" class=\"sk-toggleable__label sk-toggleable__label-arrow\">MLPClassifier</label><div class=\"sk-toggleable__content\"><pre>MLPClassifier(learning_rate_init=0.01, max_iter=1000, random_state=42)</pre></div></div></div></div></div>"
            ]
          },
          "metadata": {},
          "execution_count": 22
        }
      ],
      "source": [
        "ann_clf.fit(X_new, y_train)"
      ]
    },
    {
      "cell_type": "code",
      "execution_count": null,
      "metadata": {
        "id": "IP1Kaq4OiUFg"
      },
      "outputs": [],
      "source": [
        "y_pred = ann_clf.predict(test_preds_l1)"
      ]
    },
    {
      "cell_type": "code",
      "execution_count": null,
      "metadata": {
        "colab": {
          "base_uri": "https://localhost:8080/"
        },
        "id": "cMO5jrbyi4RM",
        "outputId": "45e4ced3-c473-4e78-970f-2127072ca4b0"
      },
      "outputs": [
        {
          "output_type": "stream",
          "name": "stdout",
          "text": [
            "0.6666666666666666\n",
            "[[24  1]\n",
            " [ 1  2]]\n"
          ]
        }
      ],
      "source": [
        "from sklearn.metrics import confusion_matrix, f1_score\n",
        "print(f1_score(y_pred,y_test))\n",
        "print(confusion_matrix(y_pred, y_test))"
      ]
    },
    {
      "cell_type": "code",
      "source": [],
      "metadata": {
        "id": "IQopYpOtRetM"
      },
      "execution_count": null,
      "outputs": []
    }
  ],
  "metadata": {
    "colab": {
      "provenance": []
    },
    "kernelspec": {
      "display_name": "Python 3",
      "name": "python3"
    },
    "language_info": {
      "name": "python"
    }
  },
  "nbformat": 4,
  "nbformat_minor": 0
}